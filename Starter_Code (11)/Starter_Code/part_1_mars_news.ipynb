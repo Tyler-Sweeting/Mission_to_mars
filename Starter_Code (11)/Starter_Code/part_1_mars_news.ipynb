{
 "cells": [
  {
   "cell_type": "markdown",
   "metadata": {},
   "source": [
    "# Module 12 Challenge\n",
    "## Deliverable 1: Scrape Titles and Preview Text from Mars News"
   ]
  },
  {
   "cell_type": "code",
   "execution_count": 49,
   "metadata": {},
   "outputs": [],
   "source": [
    "# Import Splinter and BeautifulSoup\n",
    "from splinter import Browser\n",
    "from bs4 import BeautifulSoup as soup\n",
    "from webdriver_manager.chrome import ChromeDriverManager\n",
    "import json"
   ]
  },
  {
   "cell_type": "code",
   "execution_count": 50,
   "metadata": {
    "scrolled": true
   },
   "outputs": [],
   "source": [
    "executable_path = {'executable_path': ChromeDriverManager().install()}\n",
    "browser = Browser('chrome', **executable_path, headless=False)"
   ]
  },
  {
   "cell_type": "markdown",
   "metadata": {},
   "source": [
    "### Step 1: Visit the Website\n",
    "\n",
    "1. Use automated browsing to visit the [Mars NASA news site](https://redplanetscience.com). Inspect the page to identify which elements to scrape.\n",
    "\n",
    "      > **Hint** To identify which elements to scrape, you might want to inspect the page by using Chrome DevTools."
   ]
  },
  {
   "cell_type": "code",
   "execution_count": 51,
   "metadata": {},
   "outputs": [
    {
     "data": {
      "text/plain": [
       "True"
      ]
     },
     "execution_count": 51,
     "metadata": {},
     "output_type": "execute_result"
    }
   ],
   "source": [
    "# Visit the Mars NASA news site: https://redplanetscience.com\n",
    "url = 'https://redplanetscience.com'\n",
    "browser.visit(url)\n",
    "# Optional delay for loading the page\n",
    "browser.is_element_present_by_css('div.list_text', wait_time=1)"
   ]
  },
  {
   "cell_type": "markdown",
   "metadata": {},
   "source": [
    "### Step 2: Scrape the Website\n",
    "\n",
    "Create a Beautiful Soup object and use it to extract text elements from the website."
   ]
  },
  {
   "cell_type": "code",
   "execution_count": 52,
   "metadata": {},
   "outputs": [],
   "source": [
    "# Create a Beautiful Soup object\n",
    "html = browser.html\n",
    "news_soup = soup(html, 'html.parser')"
   ]
  },
  {
   "cell_type": "code",
   "execution_count": 53,
   "metadata": {},
   "outputs": [],
   "source": [
    "# Extract all the text elements\n",
    "for x in range(1):\n",
    "   html = browser.html\n",
    "   news_soup = soup(html, 'html.parser')\n",
    "   titles = news_soup.find_all('div', class_='content_title')\n",
    "   previews = news_soup.find_all('div', class_='article_teaser_body')"
   ]
  },
  {
   "cell_type": "markdown",
   "metadata": {},
   "source": [
    "### Step 3: Store the Results\n",
    "\n",
    "Extract the titles and preview text of the news articles that you scraped. Store the scraping results in Python data structures as follows:\n",
    "\n",
    "* Store each title-and-preview pair in a Python dictionary. And, give each dictionary two keys: `title` and `preview`. An example is the following:\n",
    "\n",
    "  ```python\n",
    "  {'title': \"Mars Rover Begins Mission!\", \n",
    "        'preview': \"NASA's Mars Rover begins a multiyear mission to collect data about the little-explored planet.\"}\n",
    "  ```\n",
    "\n",
    "* Store all the dictionaries in a Python list.\n",
    "\n",
    "* Print the list in your notebook."
   ]
  },
  {
   "cell_type": "code",
   "execution_count": 54,
   "metadata": {},
   "outputs": [],
   "source": [
    "# Create an empty list to store the dictionaries\n",
    "title_list = []\n",
    "preview_list = []"
   ]
  },
  {
   "cell_type": "code",
   "execution_count": 55,
   "metadata": {},
   "outputs": [
    {
     "name": "stdout",
     "output_type": "stream",
     "text": [
      "page: 0 ----------\n",
      "NASA to Broadcast Mars 2020 Perseverance Launch, Prelaunch Activities\n",
      "page: 0 ----------\n",
      "Common Questions about InSight's 'Mole'\n",
      "page: 0 ----------\n",
      "Mars InSight Lander to Push on Top of the 'Mole'\n",
      "page: 0 ----------\n",
      "The Launch Is Approaching for NASA's Next Mars Rover, Perseverance\n",
      "page: 0 ----------\n",
      "Mars Scientists Investigate Ancient Life in Australia\n",
      "page: 0 ----------\n",
      "Meet the People Behind NASA's Perseverance Rover\n",
      "page: 0 ----------\n",
      "Follow NASA's Perseverance Rover in Real Time on Its Way to Mars\n",
      "page: 0 ----------\n",
      "NASA's Perseverance Rover Goes Through Trials by Fire, Ice, Light and Sound\n",
      "page: 0 ----------\n",
      "Naming a NASA Mars Rover Can Change Your Life\n",
      "page: 0 ----------\n",
      "NASA's Mars Helicopter Attached to Mars 2020 Rover \n",
      "page: 0 ----------\n",
      "NASA to Reveal Name of Its Next Mars Rover\n",
      "page: 0 ----------\n",
      "NASA's MAVEN Observes Martian Night Sky Pulsing in Ultraviolet Light\n",
      "page: 0 ----------\n",
      "While Stargazing on Mars, NASA's Curiosity Rover Spots Earth and Venus\n",
      "page: 0 ----------\n",
      "Join NASA for the Launch of the Mars 2020 Perseverance Rover\n",
      "page: 0 ----------\n",
      "NASA Updates Mars 2020 Mission Environmental Review\n",
      "Starting July 27, news activities will cover everything from mission engineering and science to returning samples from Mars to, of course, the launch itself.\n",
      "The following Q&As with members of the team answer some of the most common questions about the burrowing device, part of a science instrument called the Heat Flow and Physical Properties Package (HP3).\n",
      "Engineers have a plan for pushing down on the heat probe, which has been stuck at the Martian surface for a year.\n",
      "The Red Planet's surface has been visited by eight NASA spacecraft. The ninth will be the first that includes a roundtrip ticket in its flight plan. \n",
      "Teams with NASA's Mars 2020 and ESA's ExoMars practiced hunting for fossilized microbial life in the Australian Outback in preparation for their Red Planet missions. \n",
      "These are the scientists and engineers who built NASA's next Mars rover and who will guide it to a safe landing in Jezero Crater. \n",
      "A crisply rendered web application can show you where the agency's Mars 2020 mission is right now as it makes its way to the Red Planet for a Feb. 18, 2021, landing.\n",
      "The agency's new Mars rover is put through a series of tests in vacuum chambers, acoustic chambers and more to get ready for the Red Planet.\n",
      "Want to name the robotic scientist NASA is sending to Mars in 2020? The student who named Curiosity — the rover currently exploring Mars — will tell you this is an opportunity worth taking.\n",
      "The helicopter will be first aircraft to perform flight tests on another planet.\n",
      "After a months-long contest among students to name NASA's newest Mars rover, the agency will reveal the winning name — and the winning student — this Thursday. \n",
      "Vast areas of the Martian night sky pulse in ultraviolet light, according to images from NASA’s MAVEN spacecraft. The results are being used to illuminate complex circulation patterns in the Martian atmosphere.\n",
      "This new portrait of the Red Planet's neighbors was taken during a time when there's more dust in the air on Mars.\n",
      "No matter where you live, choose from a menu of activities to join NASA as we \"Countdown to Mars\" and launch the Perseverance rover to the Red Planet.\n",
      "NASA and the Department of Energy have completed a more detailed risk analysis for the Mars 2020 rover launch from Florida.\n"
     ]
    }
   ],
   "source": [
    "# Loop through the text elements\n",
    "# Extract the title and preview text from the elements\n",
    "for title in titles:\n",
    "    print('page:', x, '----------')\n",
    "    print(title.text)\n",
    "    title_list.append(title.text)\n",
    "for preview in previews:\n",
    "    print(preview.text)\n",
    "    preview_list.append(preview.text)"
   ]
  },
  {
   "cell_type": "code",
   "execution_count": 56,
   "metadata": {},
   "outputs": [
    {
     "data": {
      "text/plain": [
       "{'NASA to Broadcast Mars 2020 Perseverance Launch, Prelaunch Activities': 'Starting July 27, news activities will cover everything from mission engineering and science to returning samples from Mars to, of course, the launch itself.',\n",
       " \"Common Questions about InSight's 'Mole'\": 'The following Q&As with members of the team answer some of the most common questions about the burrowing device, part of a science instrument called the Heat Flow and Physical Properties Package (HP3).',\n",
       " \"Mars InSight Lander to Push on Top of the 'Mole'\": 'Engineers have a plan for pushing down on the heat probe, which has been stuck at the Martian surface for a year.',\n",
       " \"The Launch Is Approaching for NASA's Next Mars Rover, Perseverance\": \"The Red Planet's surface has been visited by eight NASA spacecraft. The ninth will be the first that includes a roundtrip ticket in its flight plan. \",\n",
       " 'Mars Scientists Investigate Ancient Life in Australia': \"Teams with NASA's Mars 2020 and ESA's ExoMars practiced hunting for fossilized microbial life in the Australian Outback in preparation for their Red Planet missions. \",\n",
       " \"Meet the People Behind NASA's Perseverance Rover\": \"These are the scientists and engineers who built NASA's next Mars rover and who will guide it to a safe landing in Jezero Crater. \",\n",
       " \"Follow NASA's Perseverance Rover in Real Time on Its Way to Mars\": \"A crisply rendered web application can show you where the agency's Mars 2020 mission is right now as it makes its way to the Red Planet for a Feb. 18, 2021, landing.\",\n",
       " \"NASA's Perseverance Rover Goes Through Trials by Fire, Ice, Light and Sound\": \"The agency's new Mars rover is put through a series of tests in vacuum chambers, acoustic chambers and more to get ready for the Red Planet.\",\n",
       " 'Naming a NASA Mars Rover Can Change Your Life': 'Want to name the robotic scientist NASA is sending to Mars in 2020? The student who named Curiosity — the rover currently exploring Mars — will tell you this is an opportunity worth taking.',\n",
       " \"NASA's Mars Helicopter Attached to Mars 2020 Rover \": 'The helicopter will be first aircraft to perform flight tests on another planet.',\n",
       " 'NASA to Reveal Name of Its Next Mars Rover': \"After a months-long contest among students to name NASA's newest Mars rover, the agency will reveal the winning name — and the winning student — this Thursday. \",\n",
       " \"NASA's MAVEN Observes Martian Night Sky Pulsing in Ultraviolet Light\": 'Vast areas of the Martian night sky pulse in ultraviolet light, according to images from NASA’s MAVEN spacecraft. The results are being used to illuminate complex circulation patterns in the Martian atmosphere.',\n",
       " \"While Stargazing on Mars, NASA's Curiosity Rover Spots Earth and Venus\": \"This new portrait of the Red Planet's neighbors was taken during a time when there's more dust in the air on Mars.\",\n",
       " 'Join NASA for the Launch of the Mars 2020 Perseverance Rover': 'No matter where you live, choose from a menu of activities to join NASA as we \"Countdown to Mars\" and launch the Perseverance rover to the Red Planet.',\n",
       " 'NASA Updates Mars 2020 Mission Environmental Review': 'NASA and the Department of Energy have completed a more detailed risk analysis for the Mars 2020 rover launch from Florida.'}"
      ]
     },
     "execution_count": 56,
     "metadata": {},
     "output_type": "execute_result"
    }
   ],
   "source": [
    "# Store each title and preview pair in a dictionary\n",
    "page_info = dict(zip(title_list, preview_list))\n",
    "page_info\n"
   ]
  },
  {
   "cell_type": "code",
   "execution_count": 57,
   "metadata": {},
   "outputs": [
    {
     "data": {
      "text/plain": [
       "[('NASA to Broadcast Mars 2020 Perseverance Launch, Prelaunch Activities',\n",
       "  'Starting July 27, news activities will cover everything from mission engineering and science to returning samples from Mars to, of course, the launch itself.'),\n",
       " (\"Common Questions about InSight's 'Mole'\",\n",
       "  'The following Q&As with members of the team answer some of the most common questions about the burrowing device, part of a science instrument called the Heat Flow and Physical Properties Package (HP3).'),\n",
       " (\"Mars InSight Lander to Push on Top of the 'Mole'\",\n",
       "  'Engineers have a plan for pushing down on the heat probe, which has been stuck at the Martian surface for a year.'),\n",
       " (\"The Launch Is Approaching for NASA's Next Mars Rover, Perseverance\",\n",
       "  \"The Red Planet's surface has been visited by eight NASA spacecraft. The ninth will be the first that includes a roundtrip ticket in its flight plan. \"),\n",
       " ('Mars Scientists Investigate Ancient Life in Australia',\n",
       "  \"Teams with NASA's Mars 2020 and ESA's ExoMars practiced hunting for fossilized microbial life in the Australian Outback in preparation for their Red Planet missions. \"),\n",
       " (\"Meet the People Behind NASA's Perseverance Rover\",\n",
       "  \"These are the scientists and engineers who built NASA's next Mars rover and who will guide it to a safe landing in Jezero Crater. \"),\n",
       " (\"Follow NASA's Perseverance Rover in Real Time on Its Way to Mars\",\n",
       "  \"A crisply rendered web application can show you where the agency's Mars 2020 mission is right now as it makes its way to the Red Planet for a Feb. 18, 2021, landing.\"),\n",
       " (\"NASA's Perseverance Rover Goes Through Trials by Fire, Ice, Light and Sound\",\n",
       "  \"The agency's new Mars rover is put through a series of tests in vacuum chambers, acoustic chambers and more to get ready for the Red Planet.\"),\n",
       " ('Naming a NASA Mars Rover Can Change Your Life',\n",
       "  'Want to name the robotic scientist NASA is sending to Mars in 2020? The student who named Curiosity — the rover currently exploring Mars — will tell you this is an opportunity worth taking.'),\n",
       " (\"NASA's Mars Helicopter Attached to Mars 2020 Rover \",\n",
       "  'The helicopter will be first aircraft to perform flight tests on another planet.'),\n",
       " ('NASA to Reveal Name of Its Next Mars Rover',\n",
       "  \"After a months-long contest among students to name NASA's newest Mars rover, the agency will reveal the winning name — and the winning student — this Thursday. \"),\n",
       " (\"NASA's MAVEN Observes Martian Night Sky Pulsing in Ultraviolet Light\",\n",
       "  'Vast areas of the Martian night sky pulse in ultraviolet light, according to images from NASA’s MAVEN spacecraft. The results are being used to illuminate complex circulation patterns in the Martian atmosphere.'),\n",
       " (\"While Stargazing on Mars, NASA's Curiosity Rover Spots Earth and Venus\",\n",
       "  \"This new portrait of the Red Planet's neighbors was taken during a time when there's more dust in the air on Mars.\"),\n",
       " ('Join NASA for the Launch of the Mars 2020 Perseverance Rover',\n",
       "  'No matter where you live, choose from a menu of activities to join NASA as we \"Countdown to Mars\" and launch the Perseverance rover to the Red Planet.'),\n",
       " ('NASA Updates Mars 2020 Mission Environmental Review',\n",
       "  'NASA and the Department of Energy have completed a more detailed risk analysis for the Mars 2020 rover launch from Florida.')]"
      ]
     },
     "execution_count": 57,
     "metadata": {},
     "output_type": "execute_result"
    }
   ],
   "source": [
    "# Add the dictionary to the list\n",
    "page_list = list(page_info.items())\n",
    "# Print the list to confirm success\n",
    "page_list"
   ]
  },
  {
   "cell_type": "code",
   "execution_count": 58,
   "metadata": {},
   "outputs": [],
   "source": [
    "browser.quit()"
   ]
  },
  {
   "cell_type": "markdown",
   "metadata": {},
   "source": [
    "### (Optional) Step 4: Export the Data\n",
    "\n",
    "Optionally, store the scraped data in a file or database (to ease sharing the data with others). To do so, export the scraped data to either a JSON file or a MongoDB database."
   ]
  },
  {
   "cell_type": "code",
   "execution_count": 59,
   "metadata": {},
   "outputs": [
    {
     "data": {
      "text/plain": [
       "'[[\"NASA to Broadcast Mars 2020 Perseverance Launch, Prelaunch Activities\", \"Starting July 27, news activities will cover everything from mission engineering and science to returning samples from Mars to, of course, the launch itself.\"], [\"Common Questions about InSight\\'s \\'Mole\\'\", \"The following Q&As with members of the team answer some of the most common questions about the burrowing device, part of a science instrument called the Heat Flow and Physical Properties Package (HP3).\"], [\"Mars InSight Lander to Push on Top of the \\'Mole\\'\", \"Engineers have a plan for pushing down on the heat probe, which has been stuck at the Martian surface for a year.\"], [\"The Launch Is Approaching for NASA\\'s Next Mars Rover, Perseverance\", \"The Red Planet\\'s surface has been visited by eight NASA spacecraft. The ninth will be the first that includes a roundtrip ticket in its flight plan. \"], [\"Mars Scientists Investigate Ancient Life in Australia\", \"Teams with NASA\\'s Mars 2020 and ESA\\'s ExoMars practiced hunting for fossilized microbial life in the Australian Outback in preparation for their Red Planet missions. \"], [\"Meet the People Behind NASA\\'s Perseverance Rover\", \"These are the scientists and engineers who built NASA\\'s next Mars rover and who will guide it to a safe landing in Jezero Crater. \"], [\"Follow NASA\\'s Perseverance Rover in Real Time on Its Way to Mars\", \"A crisply rendered web application can show you where the agency\\'s Mars 2020 mission is right now as it makes its way to the Red Planet for a Feb. 18, 2021, landing.\"], [\"NASA\\'s Perseverance Rover Goes Through Trials by Fire, Ice, Light and Sound\", \"The agency\\'s new Mars rover is put through a series of tests in vacuum chambers, acoustic chambers and more to get ready for the Red Planet.\"], [\"Naming a NASA Mars Rover Can Change Your Life\", \"Want to name the robotic scientist NASA is sending to Mars in 2020? The student who named Curiosity \\\\u2014 the rover currently exploring Mars \\\\u2014 will tell you this is an opportunity worth taking.\"], [\"NASA\\'s Mars Helicopter Attached to Mars 2020 Rover \", \"The helicopter will be first aircraft to perform flight tests on another planet.\"], [\"NASA to Reveal Name of Its Next Mars Rover\", \"After a months-long contest among students to name NASA\\'s newest Mars rover, the agency will reveal the winning name \\\\u2014 and the winning student \\\\u2014 this Thursday. \"], [\"NASA\\'s MAVEN Observes Martian Night Sky Pulsing in Ultraviolet Light\", \"Vast areas of the Martian night sky pulse in ultraviolet light, according to images from NASA\\\\u2019s MAVEN spacecraft. The results are being used to illuminate complex circulation patterns in the Martian atmosphere.\"], [\"While Stargazing on Mars, NASA\\'s Curiosity Rover Spots Earth and Venus\", \"This new portrait of the Red Planet\\'s neighbors was taken during a time when there\\'s more dust in the air on Mars.\"], [\"Join NASA for the Launch of the Mars 2020 Perseverance Rover\", \"No matter where you live, choose from a menu of activities to join NASA as we \\\\\"Countdown to Mars\\\\\" and launch the Perseverance rover to the Red Planet.\"], [\"NASA Updates Mars 2020 Mission Environmental Review\", \"NASA and the Department of Energy have completed a more detailed risk analysis for the Mars 2020 rover launch from Florida.\"]]'"
      ]
     },
     "execution_count": 59,
     "metadata": {},
     "output_type": "execute_result"
    }
   ],
   "source": [
    "# Export data to JSON\n",
    "json.dumps(page_list)"
   ]
  },
  {
   "cell_type": "code",
   "execution_count": 60,
   "metadata": {},
   "outputs": [],
   "source": [
    "# Export data to MongoDB\n"
   ]
  }
 ],
 "metadata": {
  "kernelspec": {
   "display_name": "PythonData",
   "language": "python",
   "name": "python3"
  },
  "language_info": {
   "codemirror_mode": {
    "name": "ipython",
    "version": 3
   },
   "file_extension": ".py",
   "mimetype": "text/x-python",
   "name": "python",
   "nbconvert_exporter": "python",
   "pygments_lexer": "ipython3",
   "version": "3.9.15"
  },
  "vscode": {
   "interpreter": {
    "hash": "dc2daa40c94e84c509e232297d785f1a498a5553730abd31dab18caed2697a09"
   }
  }
 },
 "nbformat": 4,
 "nbformat_minor": 4
}
